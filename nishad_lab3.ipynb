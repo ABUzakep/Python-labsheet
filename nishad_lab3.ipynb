{
 "cells": [
  {
   "cell_type": "raw",
   "id": "eca04264",
   "metadata": {},
   "source": [
    "1.\tWrite a python program to find sum of numbers from 1 to n."
   ]
  },
  {
   "cell_type": "code",
   "execution_count": 1,
   "id": "738716bf",
   "metadata": {},
   "outputs": [
    {
     "name": "stdout",
     "output_type": "stream",
     "text": [
      "enter the num10\n",
      "1\n",
      "3\n",
      "6\n",
      "10\n",
      "15\n",
      "21\n",
      "28\n",
      "36\n",
      "45\n"
     ]
    }
   ],
   "source": [
    "a=int(input(\"enter the num\"))\n",
    "sum=0\n",
    "for i in range(1,a):\n",
    "    sum=sum+i\n",
    "    print(sum)"
   ]
  },
  {
   "cell_type": "raw",
   "id": "5a058ca6",
   "metadata": {},
   "source": [
    "2.\tPrint all the odd numbers from 1 to N.  "
   ]
  },
  {
   "cell_type": "code",
   "execution_count": 2,
   "id": "f4620f41",
   "metadata": {},
   "outputs": [
    {
     "name": "stdout",
     "output_type": "stream",
     "text": [
      "enter the numbers10\n",
      "1\n",
      "3\n",
      "5\n",
      "7\n",
      "9\n"
     ]
    }
   ],
   "source": [
    "a=int(input(\"enter the numbers\"))\n",
    "for i in range(1,a,2):\n",
    "    print(i)"
   ]
  },
  {
   "cell_type": "raw",
   "id": "0a7d7206",
   "metadata": {},
   "source": [
    "3.\tPrint the prime numbers between two numbers num1 and num2 both inclusive."
   ]
  },
  {
   "cell_type": "code",
   "execution_count": 24,
   "id": "3c7c4692",
   "metadata": {},
   "outputs": [
    {
     "name": "stdout",
     "output_type": "stream",
     "text": [
      "Enter the first number: 10\n",
      "Enter the second number: 20\n",
      "11 13 17 19 "
     ]
    }
   ],
   "source": [
    "num1 = int(input(\"Enter the first number: \"))\n",
    "num2 = int(input(\"Enter the second number: \"))\n",
    "\n",
    "\n",
    "for num in range(num1, num2 + 1):\n",
    "    if num > 1: \n",
    "        for i in range(2, int(num**0.5) + 1):\n",
    "            if num % i == 0:\n",
    "                break\n",
    "        else:\n",
    "            print(num, end=\" \")\n"
   ]
  },
  {
   "cell_type": "raw",
   "id": "451f9dab",
   "metadata": {},
   "source": [
    "4.\tInput an integer from the user. Find the sum of numbers at even positions and product of numbers at odd positions.  Example: 12345 5 is at position 1(odd), 4 is at position 2(even) and so on."
   ]
  },
  {
   "cell_type": "code",
   "execution_count": null,
   "id": "df59aced",
   "metadata": {},
   "outputs": [],
   "source": [
    "n = int(input(\"Enter a number\"))\n",
    "sum = 0\n",
    "prod = 1\n",
    "ch = 1\n",
    "length = len(str(n))\n",
    "\n",
    "\n",
    "n = str(n)\n",
    "for i in n:\n",
    "    print(i)\n",
    "    if ch%2 == 0:\n",
    "        sum = sum+int(i)\n",
    "        \n",
    "    else:\n",
    "        prod = prod*int(i)\n",
    "        \n",
    "    ch = ch + 1\n",
    "            \n",
    "print(sum,prod)"
   ]
  },
  {
   "cell_type": "raw",
   "id": "0e406b8c",
   "metadata": {},
   "source": [
    "5.\tWrite a Python program to calculate the sum of the following series. The value n is input. a. (1)+(1+2)+(1+2+3)+ …+(1+2+3+…+n) "
   ]
  },
  {
   "cell_type": "code",
   "execution_count": null,
   "id": "93aa46ed",
   "metadata": {},
   "outputs": [],
   "source": [
    "\n",
    "n = int(input(\"Enter a number\"))\n",
    "sum = 0\n",
    "for i in range(1,n+1):\n",
    "    for j in range(i+1):\n",
    "        sum = sum + j\n",
    "print(sum)"
   ]
  },
  {
   "cell_type": "raw",
   "id": "0be2f649",
   "metadata": {},
   "source": [
    "6.\tWrite a python program to print the first 10 entries of the multiplication table of n numbers. "
   ]
  },
  {
   "cell_type": "code",
   "execution_count": null,
   "id": "ee4033c0",
   "metadata": {},
   "outputs": [
    {
     "name": "stdout",
     "output_type": "stream",
     "text": [
      "Enter a number5\n",
      "1 * 5 = 5\n",
      "2 * 5 = 10\n",
      "3 * 5 = 15\n",
      "4 * 5 = 20\n",
      "5 * 5 = 25\n",
      "6 * 5 = 30\n",
      "7 * 5 = 35\n",
      "8 * 5 = 40\n",
      "9 * 5 = 45\n",
      "10 * 5 = 50\n"
     ]
    }
   ],
   "source": [
    "n = int(input(\"Enter a number\"))\n",
    "for i in range(1,11):\n",
    "    print(i,\"*\",n,\"=\",n*i)"
   ]
  },
  {
   "cell_type": "raw",
   "id": "025e5339",
   "metadata": {},
   "source": [
    "7.\tPython program to print a pyramid pattern and inverted pyramid pattern also. \n",
    "          *\n",
    "       *    *\n",
    "   *     *\t     *\n"
   ]
  },
  {
   "cell_type": "code",
   "execution_count": 32,
   "id": "9d65f2f6",
   "metadata": {},
   "outputs": [
    {
     "name": "stdout",
     "output_type": "stream",
     "text": [
      "  *  \n",
      "\n",
      " *  *  \n",
      "\n",
      "*  *  *  \n",
      "\n",
      "*  *  *  \n",
      "\n",
      " *  *  \n",
      "\n",
      "  *  \n",
      "\n"
     ]
    }
   ],
   "source": [
    "for i in range(1,4):\n",
    "    for k in range(3-i):\n",
    "        print(\" \",end=\"\")\n",
    "    for j in range(i):\n",
    "        print(\"*\",end = \"  \")\n",
    "    print(\"\\n\")    \n",
    "for i in range(3,0,-1):\n",
    "    for k in range(3-i):\n",
    "        print(\" \",end=\"\")\n",
    "    for j in range(i):\n",
    "        print(\"*\",end = \"  \")\n",
    "    print(\"\\n\")"
   ]
  }
 ],
 "metadata": {
  "kernelspec": {
   "display_name": "Python 3 (ipykernel)",
   "language": "python",
   "name": "python3"
  },
  "language_info": {
   "codemirror_mode": {
    "name": "ipython",
    "version": 3
   },
   "file_extension": ".py",
   "mimetype": "text/x-python",
   "name": "python",
   "nbconvert_exporter": "python",
   "pygments_lexer": "ipython3",
   "version": "3.11.4"
  }
 },
 "nbformat": 4,
 "nbformat_minor": 5
}
