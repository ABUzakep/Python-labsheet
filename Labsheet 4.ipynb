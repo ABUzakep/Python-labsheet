{
 "cells": [
  {
   "cell_type": "code",
   "execution_count": 4,
   "id": "84ab7f51-e13a-4159-ab4f-9b22a4237e57",
   "metadata": {},
   "outputs": [
    {
     "name": "stdout",
     "output_type": "stream",
     "text": [
      "['studying', 'Eating', 'sleeping', 'eating', 'Walking', 'Studying', 'eat']\n"
     ]
    }
   ],
   "source": [
    "#Q1\n",
    "lst1 = [\"study\",\"Eat\",\"sleep\",\"eat\",\"Walk\",\"Study\",\"eat\"]\n",
    "for i in range(0,len(lst1)-1):\n",
    "    lst1[i] = lst1[i] + \"ing\"\n",
    "print(lst1)"
   ]
  },
  {
   "cell_type": "code",
   "execution_count": 7,
   "id": "1016f3ae-26fa-44de-aaaa-38f58b7bd835",
   "metadata": {},
   "outputs": [
    {
     "name": "stdout",
     "output_type": "stream",
     "text": [
      "['study', 'Eat', 'dance', 'eat', 'Walk', 'Study', 'eat']\n"
     ]
    }
   ],
   "source": [
    "#Q1\n",
    "lst1 = [\"study\",\"Eat\",\"sleep\",\"eat\",\"Walk\",\"Study\",\"eat\"]\n",
    "for i in range(0,len(lst1)):\n",
    "    if lst1[i] == \"sleep\":\n",
    "        lst1[i] = \"dance\"\n",
    "print(lst1)"
   ]
  },
  {
   "cell_type": "code",
   "execution_count": 10,
   "id": "fe04414c-3969-458f-9dcf-8a8c8494d687",
   "metadata": {},
   "outputs": [
    {
     "name": "stdout",
     "output_type": "stream",
     "text": [
      "['study', 'Eat', 'sleep', 'eat', 'Walk', 'Study']\n"
     ]
    }
   ],
   "source": [
    "#Q1\n",
    "lst1 = [\"study\",\"Eat\",\"sleep\",\"eat\",\"Walk\",\"Study\",\"eat\"]\n",
    "lst = []\n",
    "for i in range(0,len(lst1)):\n",
    "    if lst1[i] not in lst:\n",
    "        lst.append(lst1[i])\n",
    "print(lst)"
   ]
  },
  {
   "cell_type": "code",
   "execution_count": 12,
   "id": "5b294b8a-a1b2-4666-8796-5f2a8958e481",
   "metadata": {},
   "outputs": [
    {
     "name": "stdout",
     "output_type": "stream",
     "text": [
      "['study', 'Eat', 'sleep', 'Walk', 'Study']\n"
     ]
    }
   ],
   "source": [
    "#Q1\n",
    "lst1 = [\"study\",\"Eat\",\"sleep\",\"eat\",\"Walk\",\"Study\",\"eat\"]\n",
    "for i in range(0,len(lst1)-1):\n",
    "    if lst1[i] == \"eat\":\n",
    "        lst1.remove(lst1[i])\n",
    "print(lst1)"
   ]
  },
  {
   "cell_type": "code",
   "execution_count": 13,
   "id": "834178b6-0aeb-4266-8956-dd98502dd6ae",
   "metadata": {},
   "outputs": [
    {
     "name": "stdout",
     "output_type": "stream",
     "text": [
      "['Eat', 'Study', 'Walk', 'eat', 'eat', 'sleep', 'study']\n"
     ]
    }
   ],
   "source": [
    "#Q1\n",
    "lst1 = [\"study\",\"Eat\",\"sleep\",\"eat\",\"Walk\",\"Study\",\"eat\"]\n",
    "lst1.sort()\n",
    "print(lst1)\n"
   ]
  },
  {
   "cell_type": "code",
   "execution_count": 15,
   "id": "9a0d632c-1125-4138-b965-50cf06df1bf5",
   "metadata": {},
   "outputs": [
    {
     "name": "stdout",
     "output_type": "stream",
     "text": [
      "['eat']\n"
     ]
    }
   ],
   "source": [
    "#Q1\n",
    "lst1 = [\"study\",\"Eat\",\"sleep\",\"eat\",\"Walk\",\"Study\",\"eat\"]\n",
    "lst2 = []\n",
    "for i in range(0,len(lst1) - 1):\n",
    "    if lst1.count(lst1[i]) >= 2:\n",
    "        if lst1[i] not in lst2:\n",
    "            lst2.append(lst1[i])\n",
    "print(lst2)"
   ]
  },
  {
   "cell_type": "code",
   "execution_count": 16,
   "id": "4f428890-3021-41e9-b0f8-fcf80ddae9d9",
   "metadata": {},
   "outputs": [
    {
     "name": "stdout",
     "output_type": "stream",
     "text": [
      "[1, 4, 9, 16]\n"
     ]
    }
   ],
   "source": [
    "#Q2\n",
    "l1 = [1,2,3,4]\n",
    "for i in range(0,len(l1)):\n",
    "    l1[i] = l1[i]**2\n",
    "print(l1)"
   ]
  },
  {
   "cell_type": "code",
   "execution_count": 17,
   "id": "ef42f2ab-f3b2-4b29-8e6e-979359527d49",
   "metadata": {},
   "outputs": [
    {
     "name": "stdin",
     "output_type": "stream",
     "text": [
      " 3\n"
     ]
    },
    {
     "name": "stdout",
     "output_type": "stream",
     "text": [
      "2\n"
     ]
    }
   ],
   "source": [
    "#Q3\n",
    "l1 = [1,2,1,3,4,5,1,2,3,5]\n",
    "key = int(input())\n",
    "print(l1.count(key))"
   ]
  },
  {
   "cell_type": "code",
   "execution_count": 18,
   "id": "133ca761-5f0f-461f-bfba-99de430d1aa7",
   "metadata": {},
   "outputs": [
    {
     "name": "stdout",
     "output_type": "stream",
     "text": [
      "[1, 2, 3, 4, 5]\n"
     ]
    }
   ],
   "source": [
    "#Q4\n",
    "l1 = [1,2,1,3,4,5,1,2,3,5]\n",
    "l2 = []\n",
    "for i in range(0,len(l1)):\n",
    "    if l1[i] not in l2:\n",
    "        l2.append(l1[i])\n",
    "print(l2)"
   ]
  },
  {
   "cell_type": "code",
   "execution_count": 20,
   "id": "d9a43f47-74e4-42b0-a993-84945023126a",
   "metadata": {},
   "outputs": [
    {
     "name": "stdout",
     "output_type": "stream",
     "text": [
      "4\n",
      "6\n"
     ]
    }
   ],
   "source": [
    "#Q5\n",
    "l1 = [1,2,1,3,4,5,1,2,3,5,6]\n",
    "for i in range(0,len(l1)):\n",
    "    if l1.count(l1[i]) == 1:\n",
    "        print(l1[i])"
   ]
  },
  {
   "cell_type": "code",
   "execution_count": 21,
   "id": "46ef5b71-e3c2-4101-a71c-e37abd945e5b",
   "metadata": {},
   "outputs": [
    {
     "name": "stdin",
     "output_type": "stream",
     "text": [
      " 2\n"
     ]
    },
    {
     "name": "stdout",
     "output_type": "stream",
     "text": [
      "[1, 1, 3, 4, 5, 1, 3, 5]\n"
     ]
    }
   ],
   "source": [
    "#Q6\n",
    "l1 = [1,2,1,3,4,5,1,2,3,5]\n",
    "key = int(input())\n",
    "for i in range(0,len(lst1)):\n",
    "    if key == l1[i]:\n",
    "        l1.remove(l1[i])\n",
    "print(l1)"
   ]
  },
  {
   "cell_type": "code",
   "execution_count": 40,
   "id": "d907bdb9-7528-4ec5-a409-8d7b96c8b546",
   "metadata": {},
   "outputs": [
    {
     "name": "stdout",
     "output_type": "stream",
     "text": [
      "2\n",
      "3\n",
      "4\n",
      "Helo, What's good?, and N-word\n"
     ]
    }
   ],
   "source": [
    "#Q7\n",
    "l1 = [1,2,\"Helo\",\"What's good?\",\"N-word\",4]\n",
    "while type(l1[len(l1)-1]) != str:\n",
    "    l1.pop()\n",
    "st = \"\"\n",
    "for i in range(0,len(l1)):\n",
    "    if type(l1[i]) == str:\n",
    "        print(i)\n",
    "        if i != len(l1)-1:\n",
    "            st = st + l1[i] + \", \"\n",
    "        else:\n",
    "            st = st + \"and \" + l1[i]\n",
    "print(st)\n",
    "        "
   ]
  },
  {
   "cell_type": "code",
   "execution_count": 2,
   "id": "cea6d6e5-2732-490e-9d15-8e0efe6f0b57",
   "metadata": {},
   "outputs": [
    {
     "name": "stdout",
     "output_type": "stream",
     "text": [
      "[153, 370, 371, 407]\n"
     ]
    }
   ],
   "source": [
    "#Q8\n",
    "n = 999\n",
    "i = 100\n",
    "l = []\n",
    "while i<=n:\n",
    "    j = i\n",
    "    o = j%10\n",
    "    j = j//10\n",
    "    t = j%10\n",
    "    j = j//10\n",
    "    th = j%10\n",
    "    sum = o**3 + t**3 + th**3\n",
    "    if sum == i:\n",
    "        l.append(i)\n",
    "    i = i + 1\n",
    "print(l)"
   ]
  },
  {
   "cell_type": "code",
   "execution_count": 4,
   "id": "e53bad56-edab-4fdb-bbe6-bc7d63a1f67e",
   "metadata": {},
   "outputs": [
    {
     "name": "stdout",
     "output_type": "stream",
     "text": [
      "[6, 9]\n"
     ]
    }
   ],
   "source": [
    "#Q9\n",
    "l = [1,2,3,4,5,6,6,6,9,9,9]\n",
    "l1 = []\n",
    "for i in range(0,len(l)):\n",
    "    if l.count(l[i]) > 2:\n",
    "        l1.append(l[i])\n",
    "l2 = []\n",
    "for i in range(0,len(l1)):\n",
    "    if l1[i] not in l2:\n",
    "        l2.append(l1[i])\n",
    "print(l2)"
   ]
  },
  {
   "cell_type": "code",
   "execution_count": 8,
   "id": "857e411b-7de3-45e1-88d7-fb8f3f6bd841",
   "metadata": {},
   "outputs": [
    {
     "name": "stdin",
     "output_type": "stream",
     "text": [
      " 999\n"
     ]
    },
    {
     "name": "stdout",
     "output_type": "stream",
     "text": [
      "[1, 2, 3, 4, 5, 6, 7, 8, 9, 89, 135, 175, 518, 598]\n"
     ]
    }
   ],
   "source": [
    "#Q10\n",
    "n = int(input())\n",
    "i = 1\n",
    "l = []\n",
    "while i<=n:\n",
    "    sum = 0\n",
    "    j = 1\n",
    "    for k in str(i):\n",
    "        sum = sum+ int(k)**j\n",
    "        j = j + 1\n",
    "    if sum == i:\n",
    "        l.append(i)\n",
    "    i = i+1\n",
    "print(l)\n",
    "        "
   ]
  },
  {
   "cell_type": "code",
   "execution_count": null,
   "id": "fc7df06d-0cf6-486f-919d-28b17481be6f",
   "metadata": {},
   "outputs": [],
   "source": []
  }
 ],
 "metadata": {
  "kernelspec": {
   "display_name": "Python 3 (ipykernel)",
   "language": "python",
   "name": "python3"
  },
  "language_info": {
   "codemirror_mode": {
    "name": "ipython",
    "version": 3
   },
   "file_extension": ".py",
   "mimetype": "text/x-python",
   "name": "python",
   "nbconvert_exporter": "python",
   "pygments_lexer": "ipython3",
   "version": "3.10.0"
  }
 },
 "nbformat": 4,
 "nbformat_minor": 5
}
