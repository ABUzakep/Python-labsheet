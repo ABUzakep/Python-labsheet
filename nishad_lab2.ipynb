{
 "cells": [
  {
   "cell_type": "raw",
   "id": "2c29d707",
   "metadata": {},
   "source": [
    "1.Generate a random number between 0 and 9. If the number generated is a multiple of three \n",
    "display message “multiple of 3” otherwise display “not a multiple of 3”. \n",
    "[Use a random.randint() function to get a random integer number from the inclusive range. \n",
    "For example, random.randint(0, 10) will return a random number from [0, 1, 2, 3, 4, 5, 6, 7, 8 \n",
    ",9, 10]. import random to import random module in python]"
   ]
  },
  {
   "cell_type": "code",
   "execution_count": 70,
   "id": "9d295fc9",
   "metadata": {},
   "outputs": [
    {
     "name": "stdout",
     "output_type": "stream",
     "text": [
      "4\n",
      "not multiple\n"
     ]
    }
   ],
   "source": [
    "import random \n",
    "a=random.randint(0, 10)\n",
    "print(a)\n",
    "print('multiple' if a%3==0 else 'not multiple')"
   ]
  },
  {
   "cell_type": "code",
   "execution_count": null,
   "id": "2b30cf88",
   "metadata": {},
   "outputs": [],
   "source": [
    "import random\n",
    "n=random.randint(0,9)\n",
    "if(n%3==0):\n",
    "    print(\"div\")\n",
    "else:\n",
    "    print(\"no\")"
   ]
  },
  {
   "cell_type": "raw",
   "id": "021584b7",
   "metadata": {},
   "source": [
    "2. Write a Python program to read a number between 1 and 7 and print the corresponding \n",
    " weekday. For example, if the user input is 1, then output Monday, if the input is 2, then print \n",
    " Tuesday etc. \n"
   ]
  },
  {
   "cell_type": "code",
   "execution_count": 14,
   "id": "6e81b18b",
   "metadata": {},
   "outputs": [
    {
     "name": "stdout",
     "output_type": "stream",
     "text": [
      "enter the day5\n",
      "thursday\n"
     ]
    }
   ],
   "source": [
    "day=int(input(\"enter the day\"))\n",
    "if day==1:\n",
    "    print(\"sunday\")\n",
    "elif day==2:\n",
    "    print(\"mon\")\n",
    "elif day==3:\n",
    "    print(\"tuesday\")\n",
    "elif day==4:\n",
    "    print(\"wed\")\n",
    "elif day==5:\n",
    "    print(\"thursday\")\n",
    "elif day==6:\n",
    "    print(\"friday\")\n",
    "elif day==7:\n",
    "    print(\"saturday\")\n",
    "else:\n",
    "    print(\"invalid\")"
   ]
  },
  {
   "cell_type": "raw",
   "id": "14218551",
   "metadata": {},
   "source": [
    "3. Write a Python program to read three numbers x, y, z, and print them in the increasing order. \n"
   ]
  },
  {
   "cell_type": "code",
   "execution_count": 11,
   "id": "d7d9ef23",
   "metadata": {},
   "outputs": [
    {
     "name": "stdout",
     "output_type": "stream",
     "text": [
      "enter the num15\n",
      "enter the num24\n",
      "enter the num39\n",
      "4 5 9\n"
     ]
    }
   ],
   "source": [
    "one=int(input(\"enter the num1\"))\n",
    "two=int(input(\"enter the num2\"))\n",
    "three=int(input(\"enter the num3\"))\n",
    "num=[one,two,three]\n",
    "num.sort()\n",
    "print(num[0],num[1],num[2])\n"
   ]
  },
  {
   "cell_type": "raw",
   "id": "5b4a402e",
   "metadata": {},
   "source": [
    "4. Consider the following if statement. \n",
    "if age < 18: \n",
    "print ('kid') \n",
    "else: \n",
    "print ('Adult') \n",
    " This can be wriƩen in a short form as follows. print('Kid' if age < 18 else 'Adult') \n",
    " This short code is a type of Ternary operator. (ternary operator -an operator that acts on \n",
    " three operands) "
   ]
  },
  {
   "cell_type": "code",
   "execution_count": 15,
   "id": "56b0fbc1",
   "metadata": {},
   "outputs": [
    {
     "name": "stdout",
     "output_type": "stream",
     "text": [
      "enter the age2\n",
      "kid\n"
     ]
    }
   ],
   "source": [
    "age=int(input(\"enter the age\"))\n",
    "if age < 18: \n",
    "    print ('kid') \n",
    "else: \n",
    "    print ('Adult') "
   ]
  },
  {
   "cell_type": "code",
   "execution_count": 5,
   "id": "d6908a04",
   "metadata": {},
   "outputs": [
    {
     "name": "stdout",
     "output_type": "stream",
     "text": [
      "enter the age2\n",
      "Kid\n"
     ]
    }
   ],
   "source": [
    "age=int(input(\"enter the age\"))\n",
    "print('Kid' if age < 18 else 'Adult') \n"
   ]
  },
  {
   "cell_type": "code",
   "execution_count": 43,
   "id": "4164ce40",
   "metadata": {},
   "outputs": [
    {
     "name": "stdout",
     "output_type": "stream",
     "text": [
      "enter the num-45\n",
      "neg\n"
     ]
    }
   ],
   "source": [
    "n=int(input(\"enter the num\"))\n",
    "print('neg' if n < 0 else 'poss') "
   ]
  },
  {
   "cell_type": "raw",
   "id": "37c547bc",
   "metadata": {},
   "source": [
    "5. Write a program to accept a positive integer. Check if the number is “near to” multiple of 10. \n",
    "A number x is said to be “near to” another number y(which is any multiple of 10)if difference \n",
    "between x and y is <=2. \n",
    "Example :- Let x=12, x is “nearto” multiple of 10, x=19 is “nearto” multiple of 10, x=15 not \n",
    "“nearto” multiple of 10."
   ]
  },
  {
   "cell_type": "code",
   "execution_count": 101,
   "id": "077c2b40",
   "metadata": {},
   "outputs": [
    {
     "name": "stdout",
     "output_type": "stream",
     "text": [
      "enter the num19\n",
      "nearto\n"
     ]
    }
   ],
   "source": [
    "a=10\n",
    "num=int(input(\"enter the num\"))\n",
    "d=num%10\n",
    "if((a-d)<=2):\n",
    "    print(\"nearto\")\n",
    "else:\n",
    "    print(\"no\")"
   ]
  },
  {
   "cell_type": "markdown",
   "id": "d7c77c2d",
   "metadata": {},
   "source": [
    "using random "
   ]
  },
  {
   "cell_type": "raw",
   "id": "38dd6f4d",
   "metadata": {},
   "source": [
    "6. Amrita likes to play badminton whenever she gets tired after watching her online classes. But \n",
    "because it is very hot, she can play outside only after 4pm till 6pm. But on cloudy days she can \n",
    "play outside from 3 pm onwards. Write a program to accept the start, end times and a \n",
    "Boolean variable is_cloudy (to denote whether the climate is cloudy or not) and print whether \n",
    "Amrita can play outside during this time"
   ]
  },
  {
   "cell_type": "code",
   "execution_count": 26,
   "id": "69d37d4f",
   "metadata": {},
   "outputs": [],
   "source": [
    "start = int(input(\"Enter a start time\"))\n",
    "end = int(input(\"Enter a end\"))\n",
    "is_cloudy = int(input(\"Enter 1 if cloudy or 0 if not\"))\n",
    "if is_cloudy:\n",
    "    if (start-end) <= 3 and start < end:\n",
    "        print(\"She can play\")\n",
    "    else:\n",
    "        print(\"She can't play\")\n",
    "else:\n",
    "    if (start-end) <=2 and start < end:\n",
    "        print(\"She can play\")\n",
    "    else:\n",
    "        print(\"She can't play\")"
   ]
  },
  {
   "cell_type": "raw",
   "id": "8ba00ffa",
   "metadata": {},
   "source": [
    "7. Write a program in python to simulate rock, paper, scissor game. Take choices of two players \n",
    "as input. Following figure shows the rules of the game. "
   ]
  },
  {
   "cell_type": "code",
   "execution_count": 17,
   "id": "c67d4d85",
   "metadata": {},
   "outputs": [
    {
     "name": "stdout",
     "output_type": "stream",
     "text": [
      "enter the p1scissor\n",
      "enter the p2stone\n",
      "p2 score score1\n"
     ]
    }
   ],
   "source": [
    "p1=input(\"enter the p1\")\n",
    "p2=input(\"enter the p2\")\n",
    "\n",
    "\n",
    "if (p1=='stone' and p2=='scissor'):\n",
    "    print(\"player1 score1\")\n",
    "elif(p1=='scissor' and p2=='stone'):\n",
    "    print(\"p2 score score1\")\n",
    "elif(p1=='stone' and p2=='paper'):\n",
    "    print(\"player2 score1\")\n",
    "elif(p1=='paper' and p2=='stone'):\n",
    "    print(\"player 1 score1\")\n",
    "elif(p1=='paper' and p2=='scissor'):\n",
    "    print(\"player 2 score1\")\n",
    "elif(p1=='scissor' and p2=='paper'):\n",
    "    print(\"player 1 score1\")\n",
    "else:\n",
    "    print(\"invalid input\")"
   ]
  },
  {
   "cell_type": "code",
   "execution_count": 22,
   "id": "29186aeb",
   "metadata": {},
   "outputs": [
    {
     "name": "stdout",
     "output_type": "stream",
     "text": [
      "Enter your choice (r for rock, p for paper, s for scissors): s\n",
      "Computer's choice: p\n",
      "You score 1 point\n"
     ]
    }
   ],
   "source": [
    "import random\n",
    "\n",
    "you = input(\"Enter your choice (r for rock, p for paper, s for scissors): \")\n",
    "computer = random.choice([\"r\", \"p\", \"s\"])\n",
    "\n",
    "print(f\"Computer's choice: {computer}\")\n",
    "\n",
    "if (you == 'r' and computer == 's'):\n",
    "    print(\"You score 1 point\")\n",
    "elif (you == 's' and computer == 'r'):\n",
    "    print(\"Computer scores 1 point\")\n",
    "elif (you == 'r' and computer == 'p'):\n",
    "    print(\"Computer scores 1 point\")\n",
    "elif (you == 'p' and computer == 'r'):\n",
    "    print(\"You score 1 point\")\n",
    "elif (you == 'p' and computer == 's'):\n",
    "    print(\"Computer scores 1 point\")\n",
    "elif (you == 's' and computer == 'p'):\n",
    "    print(\"You score 1 point\")\n",
    "elif (you == 'r' and computer == 'r'):\n",
    "    print(\"You score 1 point\")\n",
    "elif (you == 's' and computer == 's'):\n",
    "    print(\"tie\")\n",
    "elif (you == 'p' and computer == 'p'):\n",
    "    print(\"tie\")\n",
    "else:\n",
    "    print(\"Invalid input\")\n",
    "\n"
   ]
  },
  {
   "cell_type": "raw",
   "id": "04ae9cb9",
   "metadata": {},
   "source": [
    "8. Write a python program to input basic salary of an employee and calculate its Gross \n",
    " salary according to following: \n",
    "Basic Salary <= 10000 : HRA = 20%, DA = 10% \n",
    "Basic Salary <= 20000 : HRA = 25%, DA = 15% \n",
    "Basic Salary > 20000 : HRA = 30%, DA = 20% "
   ]
  },
  {
   "cell_type": "code",
   "execution_count": null,
   "id": "9130f3e3",
   "metadata": {},
   "outputs": [],
   "source": [
    "sal = int(input(\"Enter basic salary\"))\n",
    "if sal<=10000:\n",
    "    hra = 20/100 * sal\n",
    "    da = 10/100 * sal\n",
    "elif sal<=20000:\n",
    "    hra = 25/100 * sal\n",
    "    da = 15/100 * sal\n",
    "else:\n",
    "    hra = 30/100* sal\n",
    "    da = 20/100 * sal\n",
    "sal = sal + hra + da\n",
    "print(\"Griss salary is\", sal)"
   ]
  }
 ],
 "metadata": {
  "kernelspec": {
   "display_name": "Python 3 (ipykernel)",
   "language": "python",
   "name": "python3"
  },
  "language_info": {
   "codemirror_mode": {
    "name": "ipython",
    "version": 3
   },
   "file_extension": ".py",
   "mimetype": "text/x-python",
   "name": "python",
   "nbconvert_exporter": "python",
   "pygments_lexer": "ipython3",
   "version": "3.11.4"
  }
 },
 "nbformat": 4,
 "nbformat_minor": 5
}
