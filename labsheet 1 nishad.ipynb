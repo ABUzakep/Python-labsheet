{
 "cells": [
  {
   "cell_type": "raw",
   "id": "8388e154",
   "metadata": {},
   "source": [
    "# Write a python program to read your name, roll number and batch and print it. Use a single \n",
    "input() to read 3 values. Use a comma as separator to print values."
   ]
  },
  {
   "cell_type": "code",
   "execution_count": 12,
   "id": "eb3d46ca",
   "metadata": {},
   "outputs": [
    {
     "name": "stdout",
     "output_type": "stream",
     "text": [
      "name,roll,marksnishad 5 44\n",
      "nishad 5 44\n"
     ]
    }
   ],
   "source": [
    "name,roll,marks=input(\"name,roll,marks\").split()\n",
    "print(name,roll,marks)"
   ]
  },
  {
   "cell_type": "code",
   "execution_count": 16,
   "id": "b513ae99",
   "metadata": {},
   "outputs": [
    {
     "name": "stdout",
     "output_type": "stream",
     "text": [
      "nishad/amal/arjun/are/friends\n"
     ]
    }
   ],
   "source": [
    "print(\"nishad\",\"amal\",\"arjun\",\"are\",\"friends\",sep=\"/\")"
   ]
  },
  {
   "cell_type": "code",
   "execution_count": 17,
   "id": "33cdba85",
   "metadata": {},
   "outputs": [
    {
     "name": "stdout",
     "output_type": "stream",
     "text": [
      "nishad,44,100!!"
     ]
    }
   ],
   "source": [
    "print(\"nishad\",44,100,sep=\",\",end=\"!!\")"
   ]
  },
  {
   "cell_type": "code",
   "execution_count": 22,
   "id": "8b6bd2f1",
   "metadata": {},
   "outputs": [
    {
     "name": "stdout",
     "output_type": "stream",
     "text": [
      "3\n"
     ]
    }
   ],
   "source": [
    "a=2\n",
    "b=6\n",
    "print(6//2)"
   ]
  },
  {
   "cell_type": "code",
   "execution_count": 29,
   "id": "39637705",
   "metadata": {},
   "outputs": [
    {
     "name": "stdout",
     "output_type": "stream",
     "text": [
      "36\n"
     ]
    }
   ],
   "source": [
    "a=2\n",
    "b=6\n",
    "print(6**2)"
   ]
  },
  {
   "cell_type": "code",
   "execution_count": 27,
   "id": "37462311",
   "metadata": {},
   "outputs": [
    {
     "name": "stdout",
     "output_type": "stream",
     "text": [
      "17\n"
     ]
    }
   ],
   "source": [
    " print(2+3*5)"
   ]
  },
  {
   "cell_type": "code",
   "execution_count": 33,
   "id": "a21025f9",
   "metadata": {},
   "outputs": [
    {
     "name": "stdout",
     "output_type": "stream",
     "text": [
      "8\n",
      "5.196152422706632\n",
      "36.660445757049004\n",
      "24.440297171366\n"
     ]
    }
   ],
   "source": [
    "print(2 ** 3)\n",
    "print(3 ** 1.5)\n",
    "print( 2 ** 3 ** 1.5)\n",
    "print( 2 ** 3 ** 1.5 / 3*2)"
   ]
  },
  {
   "cell_type": "code",
   "execution_count": 34,
   "id": "97b0a630",
   "metadata": {},
   "outputs": [
    {
     "name": "stdout",
     "output_type": "stream",
     "text": [
      "True\n"
     ]
    }
   ],
   "source": [
    "a=10\n",
    "b=20\n",
    "print(a<b)"
   ]
  },
  {
   "cell_type": "code",
   "execution_count": 35,
   "id": "94c1bd74",
   "metadata": {},
   "outputs": [
    {
     "name": "stdout",
     "output_type": "stream",
     "text": [
      "False\n"
     ]
    }
   ],
   "source": [
    "a=10\n",
    "b=20\n",
    "print(a>b)"
   ]
  },
  {
   "cell_type": "code",
   "execution_count": 36,
   "id": "510aacd1",
   "metadata": {},
   "outputs": [
    {
     "name": "stdout",
     "output_type": "stream",
     "text": [
      "False\n"
     ]
    }
   ],
   "source": [
    "a=10\n",
    "b=20\n",
    "c=30\n",
    "print(a<b>c)"
   ]
  },
  {
   "cell_type": "raw",
   "id": "3b8b3430",
   "metadata": {},
   "source": [
    "Write a program to input temperature in Celsius & to print its Fahrenheit equivalent. F = C * \n",
    "(9/5) + 32.\n"
   ]
  },
  {
   "cell_type": "code",
   "execution_count": 53,
   "id": "164e3e32",
   "metadata": {},
   "outputs": [
    {
     "name": "stdout",
     "output_type": "stream",
     "text": [
      "205\n",
      "41.0\n"
     ]
    }
   ],
   "source": [
    "c=int(input(c))\n",
    "F=(c*(9/5)+32)\n",
    "print(F)"
   ]
  },
  {
   "cell_type": "raw",
   "id": "68148542",
   "metadata": {},
   "source": [
    "given a 4-digit integer number. Write a program to print it in reverse order"
   ]
  },
  {
   "cell_type": "code",
   "execution_count": 19,
   "id": "d2bdd0f6",
   "metadata": {},
   "outputs": [
    {
     "name": "stdout",
     "output_type": "stream",
     "text": [
      "numbers44454545\n",
      "not valid number\n"
     ]
    }
   ],
   "source": [
    "number=int(input(\"numbers\"))\n",
    "if 1000 <= number <=9999:\n",
    "    rev=str(number)[::-1]\n",
    "    print(\"reversed is\".rev)\n",
    "else:\n",
    "    print(\"not valid number\")"
   ]
  },
  {
   "cell_type": "raw",
   "id": "32155b5b",
   "metadata": {},
   "source": [
    " Write a program to calculate simple interest amount for deposit amount (P) kept in bank for \n",
    "(n) years at the rate of ( r) simple interest per annum.\n",
    "simple Interest = (P x n x r)/100 Where, P is the principal amount n is no.of years and r is the \n",
    "rate"
   ]
  },
  {
   "cell_type": "code",
   "execution_count": 1,
   "id": "9f215abe",
   "metadata": {
    "scrolled": true
   },
   "outputs": [
    {
     "ename": "KeyboardInterrupt",
     "evalue": "Interrupted by user",
     "output_type": "error",
     "traceback": [
      "\u001b[1;31m---------------------------------------------------------------------------\u001b[0m",
      "\u001b[1;31mKeyboardInterrupt\u001b[0m                         Traceback (most recent call last)",
      "Cell \u001b[1;32mIn[1], line 1\u001b[0m\n\u001b[1;32m----> 1\u001b[0m P \u001b[38;5;241m=\u001b[39m \u001b[38;5;28mfloat\u001b[39m(\u001b[38;5;28minput\u001b[39m(\u001b[38;5;124m\"\u001b[39m\u001b[38;5;124mEnter the principal amount=\u001b[39m\u001b[38;5;124m\"\u001b[39m))\n\u001b[0;32m      2\u001b[0m n \u001b[38;5;241m=\u001b[39m \u001b[38;5;28mint\u001b[39m(\u001b[38;5;28minput\u001b[39m(\u001b[38;5;124m\"\u001b[39m\u001b[38;5;124mEnter the no: of years= \u001b[39m\u001b[38;5;124m\"\u001b[39m))\n\u001b[0;32m      3\u001b[0m r \u001b[38;5;241m=\u001b[39m \u001b[38;5;28mfloat\u001b[39m(\u001b[38;5;28minput\u001b[39m(\u001b[38;5;124m\"\u001b[39m\u001b[38;5;124mEnter the rate of interest=\u001b[39m\u001b[38;5;124m\"\u001b[39m))\n",
      "File \u001b[1;32mD:\\Downloads\\APPLICATIONDOWNLOADS\\anacondajupitorworkspace\\Lib\\site-packages\\ipykernel\\kernelbase.py:1175\u001b[0m, in \u001b[0;36mKernel.raw_input\u001b[1;34m(self, prompt)\u001b[0m\n\u001b[0;32m   1171\u001b[0m \u001b[38;5;28;01mif\u001b[39;00m \u001b[38;5;129;01mnot\u001b[39;00m \u001b[38;5;28mself\u001b[39m\u001b[38;5;241m.\u001b[39m_allow_stdin:\n\u001b[0;32m   1172\u001b[0m     \u001b[38;5;28;01mraise\u001b[39;00m StdinNotImplementedError(\n\u001b[0;32m   1173\u001b[0m         \u001b[38;5;124m\"\u001b[39m\u001b[38;5;124mraw_input was called, but this frontend does not support input requests.\u001b[39m\u001b[38;5;124m\"\u001b[39m\n\u001b[0;32m   1174\u001b[0m     )\n\u001b[1;32m-> 1175\u001b[0m \u001b[38;5;28;01mreturn\u001b[39;00m \u001b[38;5;28mself\u001b[39m\u001b[38;5;241m.\u001b[39m_input_request(\n\u001b[0;32m   1176\u001b[0m     \u001b[38;5;28mstr\u001b[39m(prompt),\n\u001b[0;32m   1177\u001b[0m     \u001b[38;5;28mself\u001b[39m\u001b[38;5;241m.\u001b[39m_parent_ident[\u001b[38;5;124m\"\u001b[39m\u001b[38;5;124mshell\u001b[39m\u001b[38;5;124m\"\u001b[39m],\n\u001b[0;32m   1178\u001b[0m     \u001b[38;5;28mself\u001b[39m\u001b[38;5;241m.\u001b[39mget_parent(\u001b[38;5;124m\"\u001b[39m\u001b[38;5;124mshell\u001b[39m\u001b[38;5;124m\"\u001b[39m),\n\u001b[0;32m   1179\u001b[0m     password\u001b[38;5;241m=\u001b[39m\u001b[38;5;28;01mFalse\u001b[39;00m,\n\u001b[0;32m   1180\u001b[0m )\n",
      "File \u001b[1;32mD:\\Downloads\\APPLICATIONDOWNLOADS\\anacondajupitorworkspace\\Lib\\site-packages\\ipykernel\\kernelbase.py:1217\u001b[0m, in \u001b[0;36mKernel._input_request\u001b[1;34m(self, prompt, ident, parent, password)\u001b[0m\n\u001b[0;32m   1214\u001b[0m             \u001b[38;5;28;01mbreak\u001b[39;00m\n\u001b[0;32m   1215\u001b[0m \u001b[38;5;28;01mexcept\u001b[39;00m \u001b[38;5;167;01mKeyboardInterrupt\u001b[39;00m:\n\u001b[0;32m   1216\u001b[0m     \u001b[38;5;66;03m# re-raise KeyboardInterrupt, to truncate traceback\u001b[39;00m\n\u001b[1;32m-> 1217\u001b[0m     \u001b[38;5;28;01mraise\u001b[39;00m \u001b[38;5;167;01mKeyboardInterrupt\u001b[39;00m(\u001b[38;5;124m\"\u001b[39m\u001b[38;5;124mInterrupted by user\u001b[39m\u001b[38;5;124m\"\u001b[39m) \u001b[38;5;28;01mfrom\u001b[39;00m \u001b[38;5;28;01mNone\u001b[39;00m\n\u001b[0;32m   1218\u001b[0m \u001b[38;5;28;01mexcept\u001b[39;00m \u001b[38;5;167;01mException\u001b[39;00m:\n\u001b[0;32m   1219\u001b[0m     \u001b[38;5;28mself\u001b[39m\u001b[38;5;241m.\u001b[39mlog\u001b[38;5;241m.\u001b[39mwarning(\u001b[38;5;124m\"\u001b[39m\u001b[38;5;124mInvalid Message:\u001b[39m\u001b[38;5;124m\"\u001b[39m, exc_info\u001b[38;5;241m=\u001b[39m\u001b[38;5;28;01mTrue\u001b[39;00m)\n",
      "\u001b[1;31mKeyboardInterrupt\u001b[0m: Interrupted by user"
     ]
    }
   ],
   "source": [
    "P = float(input(\"Enter the principal amount=\"))\n",
    "n = int(input(\"Enter the no: of years= \"))\n",
    "r = float(input(\"Enter the rate of interest=\"))\n",
    "\n",
    "simpleinterest = (P * n * r) / 100\n",
    "print(\"Simple Interest Amount:\", simpleinterest)\n"
   ]
  },
  {
   "cell_type": "raw",
   "id": "39036fbb",
   "metadata": {},
   "source": [
    "Write a python program to prompt the user for the x- and y-coordinates of the three corners \n",
    "of a triangle, calculate and print the lengths of the three sides, calculate and print the \n",
    "circumference of the triangle, and calculate and print the area of the triangle. The following \n",
    "mathemaƟcal formulas may be used in these calculaƟons: – \n",
    "The formula for determining the length lAB of the line between points (xA, yA) and (xB, yB) is\n",
    "If lAB, lBC, and lCA are the lengths of the three sides of a triangle, then the area of the triangle \n",
    "is \n",
    "where s is one-half the circumference of the triangle – i.e., s = ½ × (lAB + lBC + lCA)."
   ]
  },
  {
   "cell_type": "code",
   "execution_count": null,
   "id": "ed993c81",
   "metadata": {},
   "outputs": [],
   "source": [
    "import math\n",
    "\n",
    "def calculate_length(x1, y1, x2, y2):\n",
    "    return math.sqrt((x2 - x1)**2 + (y2 - y1)**2)\n",
    "\n",
    "xA, yA = map(float, input(\"Enter coordinates of point A (x, y): \").split())\n",
    "xB, yB = map(float, input(\"Enter coordinates of point B (x, y): \").split())\n",
    "xC, yC = map(float, input(\"Enter coordinates of point C (x, y): \").split())\n",
    "\n",
    "lAB = calculate_length(xA, yA, xB, yB)\n",
    "lBC = calculate_length(xB, yB, xC, yC)\n",
    "lCA = calculate_length(xC, yC, xA, yA)\n",
    "\n",
    "circumference = lAB + lBC + lCA\n",
    "\n",
    "s = circumference / 2\n",
    "\n",
    "area = math.sqrt(s * (s - lAB) * (s - lBC) * (s - lCA))\n",
    "\n",
    "print(f\"Length of side AB: {lAB}\")\n",
    "print(f\"Length of side BC: {lBC}\")\n",
    "print(f\"Length of side CA: {lCA}\")\n",
    "print(f\"Circumference of the triangle: {circumference}\")\n",
    "print(f\"Area of the triangle: {area}\")\n"
   ]
  },
  {
   "cell_type": "raw",
   "id": "ad9d4841",
   "metadata": {},
   "source": [
    "6. Predict the output for the following statements in python."
   ]
  },
  {
   "cell_type": "code",
   "execution_count": 2,
   "id": "771263bd",
   "metadata": {},
   "outputs": [
    {
     "name": "stdout",
     "output_type": "stream",
     "text": [
      "0.8\n"
     ]
    }
   ],
   "source": [
    "print( 4/5)"
   ]
  },
  {
   "cell_type": "code",
   "execution_count": 12,
   "id": "0a051b40",
   "metadata": {},
   "outputs": [
    {
     "name": "stdout",
     "output_type": "stream",
     "text": [
      "0\n"
     ]
    }
   ],
   "source": [
    "print( 4//8)"
   ]
  },
  {
   "cell_type": "code",
   "execution_count": 4,
   "id": "3af213cd",
   "metadata": {},
   "outputs": [
    {
     "name": "stdout",
     "output_type": "stream",
     "text": [
      "4\n"
     ]
    }
   ],
   "source": [
    "print(4%5)"
   ]
  },
  {
   "cell_type": "code",
   "execution_count": 6,
   "id": "2de96544",
   "metadata": {},
   "outputs": [
    {
     "name": "stdout",
     "output_type": "stream",
     "text": [
      "True\n"
     ]
    }
   ],
   "source": [
    "print(5<6<8)"
   ]
  },
  {
   "cell_type": "code",
   "execution_count": 13,
   "id": "d215066a",
   "metadata": {},
   "outputs": [
    {
     "ename": "NameError",
     "evalue": "name 'x' is not defined",
     "output_type": "error",
     "traceback": [
      "\u001b[1;31m---------------------------------------------------------------------------\u001b[0m",
      "\u001b[1;31mNameError\u001b[0m                                 Traceback (most recent call last)",
      "Cell \u001b[1;32mIn[13], line 2\u001b[0m\n\u001b[0;32m      1\u001b[0m X\u001b[38;5;241m=\u001b[39m\u001b[38;5;241m4\u001b[39m\n\u001b[1;32m----> 2\u001b[0m Y\u001b[38;5;241m=\u001b[39mx\u001b[38;5;241m>>\u001b[39m\u001b[38;5;241m2\u001b[39m\n\u001b[0;32m      3\u001b[0m \u001b[38;5;28mprint\u001b[39m (x)\n\u001b[0;32m      4\u001b[0m \u001b[38;5;28mprint\u001b[39m(y)\n",
      "\u001b[1;31mNameError\u001b[0m: name 'x' is not defined"
     ]
    }
   ],
   "source": [
    " X=4\n",
    "Y=x>>2\n",
    "print(x)\n",
    "print(y)\n"
   ]
  },
  {
   "cell_type": "code",
   "execution_count": 14,
   "id": "656152e1",
   "metadata": {},
   "outputs": [
    {
     "name": "stdout",
     "output_type": "stream",
     "text": [
      "False\n"
     ]
    }
   ],
   "source": [
    "a=7>8 \n",
    "print(a)\n"
   ]
  },
  {
   "cell_type": "code",
   "execution_count": 15,
   "id": "db00c7d8",
   "metadata": {},
   "outputs": [
    {
     "ename": "NameError",
     "evalue": "name 'name' is not defined",
     "output_type": "error",
     "traceback": [
      "\u001b[1;31m---------------------------------------------------------------------------\u001b[0m",
      "\u001b[1;31mNameError\u001b[0m                                 Traceback (most recent call last)",
      "Cell \u001b[1;32mIn[15], line 4\u001b[0m\n\u001b[0;32m      2\u001b[0m a\u001b[38;5;241m=\u001b[39m\u001b[38;5;241m6\u001b[39m\n\u001b[0;32m      3\u001b[0m b\u001b[38;5;241m=\u001b[39m\u001b[38;5;241m-\u001b[39m\u001b[38;5;241m1\u001b[39m\n\u001b[1;32m----> 4\u001b[0m c\u001b[38;5;241m=\u001b[39m(name\u001b[38;5;241m==\u001b[39m\u001b[38;5;124m\"\u001b[39m\u001b[38;5;124mabc\u001b[39m\u001b[38;5;124m\"\u001b[39m \u001b[38;5;129;01mor\u001b[39;00m age\u001b[38;5;241m==\u001b[39m\u001b[38;5;241m5\u001b[39m) \u001b[38;5;129;01mand\u001b[39;00m b\n\u001b[0;32m      5\u001b[0m \u001b[38;5;28mprint\u001b[39m(c )\n",
      "\u001b[1;31mNameError\u001b[0m: name 'name' is not defined"
     ]
    }
   ],
   "source": [
    "n=\"abc\"\n",
    "a=6\n",
    "b=-1\n",
    "c=(name==\"abc\" or age==5) and b\n",
    "print(c )"
   ]
  },
  {
   "cell_type": "code",
   "execution_count": null,
   "id": "1ee3f167",
   "metadata": {},
   "outputs": [],
   "source": []
  }
 ],
 "metadata": {
  "kernelspec": {
   "display_name": "Python 3 (ipykernel)",
   "language": "python",
   "name": "python3"
  },
  "language_info": {
   "codemirror_mode": {
    "name": "ipython",
    "version": 3
   },
   "file_extension": ".py",
   "mimetype": "text/x-python",
   "name": "python",
   "nbconvert_exporter": "python",
   "pygments_lexer": "ipython3",
   "version": "3.11.4"
  }
 },
 "nbformat": 4,
 "nbformat_minor": 5
}
